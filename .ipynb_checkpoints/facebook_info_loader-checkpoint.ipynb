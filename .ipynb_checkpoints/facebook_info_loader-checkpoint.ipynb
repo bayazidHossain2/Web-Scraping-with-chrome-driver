{
 "cells": [
  {
   "cell_type": "code",
   "execution_count": 19,
   "id": "f31b949f-48c2-4893-a2d9-195134b75fd0",
   "metadata": {},
   "outputs": [
    {
     "name": "stderr",
     "output_type": "stream",
     "text": [
      "C:\\Users\\bayaz\\AppData\\Local\\Temp\\ipykernel_10744\\1310874366.py:10: DeprecationWarning: executable_path has been deprecated, please pass in a Service object\n",
      "  driver = webdriver.Chrome(executable_path=driver_path)\n"
     ]
    },
    {
     "name": "stdout",
     "output_type": "stream",
     "text": [
      "Likes: \n",
      "Likes: 44\n",
      "Likes: 44\n"
     ]
    }
   ],
   "source": [
    "from selenium import webdriver\n",
    "from selenium.webdriver.common.by import By\n",
    "from selenium.webdriver.common.keys import Keys\n",
    "import time\n",
    "\n",
    "# Initialize WebDriver\n",
    "# driver_path = \"C:\\Users\\bayaz\\Downloads\\chromedriver-win64\\chromedriver-win64\\chromedriver.exe\"\n",
    "driver_path = r\"C:\\Users\\bayaz\\Downloads\\chromedriver-win64\\chromedriver-win64\\chromedriver.exe\"\n",
    "\n",
    "driver = webdriver.Chrome(executable_path=driver_path)\n",
    "\n",
    "# Open Facebook and log in\n",
    "driver.get(\"https://m.facebook.com\")\n",
    "email = driver.find_element(By.ID, \"email\")\n",
    "password = driver.find_element(By.ID, \"pass\")\n",
    "login_button = driver.find_element(By.NAME, \"login\")\n",
    "\n",
    "email.send_keys(\"01516002121\")\n",
    "password.send_keys(\"asdfgh@2000\")\n",
    "login_button.click()\n",
    "\n",
    "# Wait for login to complete\n",
    "time.sleep(5)\n",
    "\n",
    "# Navigate to the Facebook page\n",
    "page_name = \"Google\"\n",
    "driver.get(f\"https://www.facebook.com/{page_name}\")\n",
    "\n",
    "# Wait for the page to load\n",
    "time.sleep(5)\n",
    "\n",
    "try:\n",
    "    # Adjust this if needed, this waits up to 15 seconds for the elements to appear\n",
    "    WebDriverWait(driver, 15).until(\n",
    "        EC.presence_of_element_located((By.CLASS_NAME, \"x1e558r4\"))\n",
    "    )\n",
    "    \n",
    "    # Get the page source after the element has loaded\n",
    "    html = driver.page_source\n",
    "\n",
    "    # Parse with BeautifulSoup\n",
    "    soup = BeautifulSoup(html, 'html.parser')\n",
    "\n",
    "    # Find the like count element\n",
    "    like_element = soup.find_all('span', class_='x1e558r4')\n",
    "    \n",
    "    # Extract and print the data\n",
    "    if like_element:\n",
    "        for element in like_element:\n",
    "            print(f\"Likes: {element.get_text(strip=True)}\")\n",
    "    else:\n",
    "        print(\"Could not find like element.\")\n",
    "except Exception as e:\n",
    "    print(f\"Error finding data: {e}\")\n",
    "\n",
    "driver.quit()"
   ]
  },
  {
   "cell_type": "code",
   "execution_count": null,
   "id": "84493f73-afff-4f7e-8f41-a2cf1815e372",
   "metadata": {},
   "outputs": [],
   "source": []
  }
 ],
 "metadata": {
  "kernelspec": {
   "display_name": "Python 3 (ipykernel)",
   "language": "python",
   "name": "python3"
  },
  "language_info": {
   "codemirror_mode": {
    "name": "ipython",
    "version": 3
   },
   "file_extension": ".py",
   "mimetype": "text/x-python",
   "name": "python",
   "nbconvert_exporter": "python",
   "pygments_lexer": "ipython3",
   "version": "3.12.4"
  }
 },
 "nbformat": 4,
 "nbformat_minor": 5
}
