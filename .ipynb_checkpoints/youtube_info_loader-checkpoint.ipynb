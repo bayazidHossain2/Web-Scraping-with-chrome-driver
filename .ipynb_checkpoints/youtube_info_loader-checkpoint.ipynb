{
 "cells": [
  {
   "cell_type": "code",
   "execution_count": 2,
   "id": "00e89db1-8961-4a57-954e-d0abffd019d7",
   "metadata": {},
   "outputs": [],
   "source": [
    "from selenium import webdriver\n",
    "from selenium.webdriver.chrome.service import Service\n",
    "from selenium.webdriver.common.by import By\n",
    "from bs4 import BeautifulSoup\n",
    "import time\n",
    "import pandas as pd\n",
    "import datetime\n",
    "import os\n",
    "\n",
    "# Get the current date and time\n",
    "current_datetime = datetime.datetime.now().strftime(\"%Y-%m-%d %H-%M-%S\")\n",
    "if not os.path.exists(current_datetime):\n",
    "    os.makedirs(current_datetime)"
   ]
  },
  {
   "cell_type": "code",
   "execution_count": 3,
   "id": "fbbe8655-514f-438b-8ad5-ae9055ffb122",
   "metadata": {},
   "outputs": [
    {
     "name": "stdout",
     "output_type": "stream",
     "text": [
      "2024-08-11 19-27-06\n"
     ]
    }
   ],
   "source": [
    "print(current_datetime)"
   ]
  },
  {
   "cell_type": "markdown",
   "id": "1fbac0ee-e083-4ba0-9dc4-d68a48fd74e7",
   "metadata": {},
   "source": [
    "## Initialize WebDriver"
   ]
  },
  {
   "cell_type": "code",
   "execution_count": 4,
   "id": "b2d4f397-92d1-415a-b2b1-8ce2ebcc3070",
   "metadata": {},
   "outputs": [],
   "source": [
    "# Initialize WebDriver with the path to ChromeDriver using Service\n",
    "driver_path = r\"C:\\Users\\bayaz\\Downloads\\chromedriver-win64\\chromedriver-win64\\chromedriver.exe\"\n",
    "service = Service(driver_path)\n",
    "driver = webdriver.Chrome(service=service)"
   ]
  },
  {
   "cell_type": "markdown",
   "id": "04ef950f-a3ea-453f-8cb4-faefe079b7d7",
   "metadata": {},
   "source": [
    "## Get Video Title from chanels"
   ]
  },
  {
   "cell_type": "code",
   "execution_count": 5,
   "id": "3f126296-0270-467f-aed4-ed89e220a446",
   "metadata": {},
   "outputs": [],
   "source": [
    "def get_video_title_from_channel_url(channel_url):    \n",
    "    # Open YouTube channel\n",
    "    # channel_url = \"https://www.youtube.com/@Apple\"\n",
    "    driver.get(channel_url)\n",
    "    \n",
    "    # Wait for the page to load\n",
    "    time.sleep(5)\n",
    "    \n",
    "    # Scroll down to load more content\n",
    "    driver.execute_script(\"window.scrollTo(0, document.body.scrollHeight);\")\n",
    "    time.sleep(5)\n",
    "    \n",
    "    # Example: Scraping the number of subscribers\n",
    "    try:\n",
    "        subscribers = driver.find_element(By.XPATH, '//span[contains(@class, \"yt-content-metadata-view-model-wiz__metadata-text\") and contains(text(), \"subscribers\")]').text\n",
    "        print(f\"Subscribers: {subscribers}\")\n",
    "    except Exception as e:\n",
    "        print(f\"Error finding subscribers: {e}\")\n",
    "    \n",
    "    # Example: Scraping recent video statistics\n",
    "    videos = driver.find_elements(By.XPATH, '//*[@id=\"video-title\"]')\n",
    "    \n",
    "    print(len(videos))\n",
    "    return videos\n",
    "\n",
    "# get_video_title_from_channel_url('https://www.youtube.com/@amazon')\n"
   ]
  },
  {
   "cell_type": "markdown",
   "id": "d245a41a-52be-4573-b1b9-048dc60c5699",
   "metadata": {},
   "source": [
    "## Load the video page"
   ]
  },
  {
   "cell_type": "code",
   "execution_count": 6,
   "id": "0fc4a859-4084-410a-aac3-fc149c16bd39",
   "metadata": {},
   "outputs": [],
   "source": [
    "def get_html_from_video_link(video_url):\n",
    "      \n",
    "    # Open the YouTube video page\n",
    "    driver.get(video_url)\n",
    "    \n",
    "    # Wait for the page to load\n",
    "    time.sleep(5)\n",
    "    # Pause the video using JavaScript\n",
    "    pause_script = \"\"\"\n",
    "        var video = document.querySelector('video');\n",
    "        if (video) {\n",
    "            video.pause();\n",
    "        }\n",
    "    \"\"\"\n",
    "    driver.execute_script(pause_script)\n",
    "    \n",
    "    time.sleep(5)\n",
    "    \n",
    "    # Get the page source\n",
    "    html = driver.page_source\n",
    "    # print(html)\n",
    "    return html\n",
    "\n"
   ]
  },
  {
   "cell_type": "markdown",
   "id": "cb65d01f-dc8d-438a-8814-ec20eec38453",
   "metadata": {},
   "source": [
    "## Get Number"
   ]
  },
  {
   "cell_type": "code",
   "execution_count": 7,
   "id": "b1b61c0f-4827-48bf-bc46-6d3ed2ac1954",
   "metadata": {},
   "outputs": [],
   "source": [
    "def get_number(str):\n",
    "    # Dictionary to map suffixes to their respective multipliers\n",
    "    multipliers = {'k': 1_000, 'K': 1_000, 'm': 1_000_000, 'M': 1_000_000, 'b': 1_000_000_000, 'B': 1_000_000_000}\n",
    "\n",
    "    if not str.strip():\n",
    "        return 0\n",
    "    elif str[-1] in multipliers:\n",
    "        # Extract the number and the suffix\n",
    "        num = float(str[:-1].replace(',', '.'))\n",
    "        multiplier = multipliers[str[-1]]\n",
    "        return int(num * multiplier)\n",
    "    else:\n",
    "        # If there's no suffix, just return the integer value\n",
    "        return int(str.replace(',', ''))\n",
    "\n",
    "# print(get_number('  '))"
   ]
  },
  {
   "cell_type": "markdown",
   "id": "5657668a-f0d0-44db-83d1-3f308775945a",
   "metadata": {},
   "source": [
    "## Find the views Count"
   ]
  },
  {
   "cell_type": "code",
   "execution_count": 8,
   "id": "8fa665df-899e-4ebf-9188-a9a468755b0d",
   "metadata": {},
   "outputs": [],
   "source": [
    "def get_views_count(_soup):\n",
    "    ### Find the views count element\n",
    "    try:\n",
    "        info_element = _soup.find('yt-formatted-string', {'id': 'info'})\n",
    "        if info_element:\n",
    "            views_element = info_element.find('span', {'class': 'bold style-scope yt-formatted-string'})\n",
    "            if views_element:\n",
    "                views_text = views_element.get_text(strip=True)\n",
    "                # print(f\"Views: {views_text}\")\n",
    "            else:\n",
    "                print(\"Could not find views element.\")\n",
    "                return 0\n",
    "        else:\n",
    "            print(\"Could not find info element.\")\n",
    "            return 0\n",
    "    except Exception as e:\n",
    "        print(f\"Error finding views: {e}\")\n",
    "        return 0\n",
    "\n",
    "    return get_number(views_text.split(' ')[0])\n"
   ]
  },
  {
   "cell_type": "markdown",
   "id": "3a9afc60-29d8-4c93-980b-e5b2acbb6ec7",
   "metadata": {},
   "source": [
    "## Find the likes count"
   ]
  },
  {
   "cell_type": "code",
   "execution_count": 9,
   "id": "c9239ec0-cb29-4940-a460-ae895952fd3c",
   "metadata": {},
   "outputs": [],
   "source": [
    "def get_like_count(_soup):\n",
    "    ### Finding the likes on a video\n",
    "    \n",
    "    factoid_element = _soup.find('factoid-renderer', {'class': 'YtwFactoidRendererHost'})\n",
    "    try:\n",
    "        # Extract the number of likes\n",
    "        if factoid_element:\n",
    "            like_count_element = factoid_element.find('span', {'class': 'yt-core-attributed-string yt-core-attributed-string--white-space-pre-wrap'})\n",
    "            if like_count_element:\n",
    "                like_count = like_count_element.get_text(strip=True)\n",
    "                # print(f\"Likes: {like_count}\")\n",
    "            else:\n",
    "                print(\"Could not find like count element.\")\n",
    "                return 0\n",
    "        else:\n",
    "            print(\"Could not find factoid element.\")\n",
    "            return 0\n",
    "    except Exception as e:\n",
    "        print(f\"Error finding views: {e}\")\n",
    "        return 0\n",
    "\n",
    "    return get_number(like_count)\n"
   ]
  },
  {
   "cell_type": "markdown",
   "id": "ac98209a-839a-4c67-9c14-98c78794badc",
   "metadata": {},
   "source": [
    "## Find the comment count"
   ]
  },
  {
   "cell_type": "code",
   "execution_count": 10,
   "id": "267fd4ef-c5a4-4c91-9e0e-25a91214b7de",
   "metadata": {},
   "outputs": [],
   "source": [
    "def get_comment_count(_soup):\n",
    "    ### find comments\n",
    "    # Find the element containing the comment count\n",
    "    comment_count_element = _soup.findAll('yt-formatted-string', {'class': 'style-scope ytd-engagement-panel-title-header-renderer'}, id='contextual-info')\n",
    "    # print(f'Comment count e : {comment_count_element}')\n",
    "    try:\n",
    "        # Extract the text from the element containing the number of comments\n",
    "        if comment_count_element[1]:\n",
    "            comment_count = comment_count_element[1].text.strip()\n",
    "            # print(f\"Number of comments: {comment_count}\")\n",
    "            # print(comment_count_element[1].text)\n",
    "        else:\n",
    "            print(\"Could not find the comment count element.\")\n",
    "            return 0\n",
    "    except Exception as e:\n",
    "        print(f\"Error finding views: {e}\")\n",
    "        return 0\n",
    "    \n",
    "\n",
    "    return get_number(comment_count)\n"
   ]
  },
  {
   "cell_type": "markdown",
   "id": "de1c0f06-79b9-4c20-9fd5-be05007b81c6",
   "metadata": {},
   "source": [
    "## Load Channel Data "
   ]
  },
  {
   "cell_type": "code",
   "execution_count": 13,
   "id": "b031e871-bf90-45c7-8472-ca5865b517c7",
   "metadata": {},
   "outputs": [
    {
     "name": "stdout",
     "output_type": "stream",
     "text": [
      "Subscribers: 9.28M subscribers\n",
      "60\n",
      "ind : 0 Primos Chibi Tiny Tales | NEW CHIBI SHORT | The Summer of Silenciosa | @disneychannel views : 11000 likes : 348, comments : 0\n",
      "Could not find views element.\n",
      "Could not find factoid element.\n",
      "Error finding views: list index out of range\n",
      "ind : 1 🔴 LIVE! | Wizards of Waverly Place Season 1 Full Episodes | 21 THROWBACK Episodes | @disneychannel views : 0 likes : 0, comments : 0\n",
      "ind : 2 Wizards Beyond Waverly Place First-Look 👀🪄 | NEW SERIES! | @disneychannel views : 312000 likes : 14000, comments : 0\n",
      "ind : 3 Moon Girl’s Lab Shorts #8 | Save the Moon 🌕 | Marvel’s Moon Girl and Devil Dinosaur |@disneychannel views : 739698 likes : 428, comments : 0\n",
      "ind : 4 Descendants 3 As Told By Chibi  #DisneyDescendants #ChibiTinyTales #DisneyChannel views : 35000 likes : 1700, comments : 0\n",
      "Data saved to 2024-08-11 19-27-06/densy_data.csv\n"
     ]
    }
   ],
   "source": [
    "# channel_url = \"https://www.youtube.com/@IBM\"\n",
    "# channel_name = \"IBM\"\n",
    "def load_channel_data(channel_name, channel_url):\n",
    "    videos_title = get_video_title_from_channel_url(channel_url)\n",
    "    # get_video_title_from_channel_url('https://www.youtube.com/@amazon')\n",
    "    \n",
    "    video_title_list = list()\n",
    "    video_url_list = list()\n",
    "    for video in videos_title[:5]:\n",
    "        video_title = video.get_attribute('title')\n",
    "        video_url = video.get_attribute('href')\n",
    "        video_title_list.append(video_title)\n",
    "        video_url_list.append(video_url)\n",
    "    \n",
    "    # print(video_title_list)\n",
    "    # print(video_url_list)\n",
    "    \n",
    "    info = list()\n",
    "    for ind in range(len(video_url_list)):\n",
    "        # video_title = video.get_attribute('title')\n",
    "        # video_url = video.get_attribute('href')\n",
    "        # print(f'title : {video_title}')\n",
    "        html = get_html_from_video_link(video_url_list[ind])\n",
    "        time.sleep(3)\n",
    "        # Parse with BeautifulSoup\n",
    "        soup = BeautifulSoup(html, 'html.parser')\n",
    "        views = get_views_count(soup)\n",
    "        likes = get_like_count(soup)\n",
    "        comments = get_comment_count(soup)\n",
    "        info.append([video_title_list[ind], video_url_list[ind], views, likes, comments])\n",
    "    \n",
    "        print(f'ind : {ind} {video_title_list[ind]} views : {views} likes : {likes}, comments : {comments}')\n",
    "        # driver.back()\n",
    "        # time.sleep(1)\n",
    "\n",
    "    # Convert the list of lists into a DataFrame\n",
    "    df = pd.DataFrame(info, columns=['Video Title', 'Video URL', 'views', 'likes', 'comments'])\n",
    "    \n",
    "    # Specify the file name\n",
    "    filename = f\"{current_datetime}/{channel_name}_data.csv\"\n",
    "    \n",
    "    # Save the DataFrame to a CSV file\n",
    "    df.to_csv(filename, index=False)\n",
    "    \n",
    "    print(f\"Data saved to {filename}\")\n",
    "\n",
    "# load_channel_data('densy', 'https://www.youtube.com/@disneychannel')\n"
   ]
  },
  {
   "cell_type": "code",
   "execution_count": 12,
   "id": "4d44b771-92ab-4a45-9966-883957f8bd72",
   "metadata": {
    "scrolled": true
   },
   "outputs": [
    {
     "name": "stdout",
     "output_type": "stream",
     "text": [
      "0 Brand: Apple, YouTube Link: https://www.youtube.com/@Apple Going to Load: \n"
     ]
    },
    {
     "ename": "KeyboardInterrupt",
     "evalue": "",
     "output_type": "error",
     "traceback": [
      "\u001b[1;31m---------------------------------------------------------------------------\u001b[0m",
      "\u001b[1;31mKeyboardInterrupt\u001b[0m                         Traceback (most recent call last)",
      "Cell \u001b[1;32mIn[12], line 14\u001b[0m\n\u001b[0;32m     12\u001b[0m         youtube_link \u001b[38;5;241m=\u001b[39m row[\u001b[38;5;124m'\u001b[39m\u001b[38;5;124mYouTube\u001b[39m\u001b[38;5;124m'\u001b[39m]\n\u001b[0;32m     13\u001b[0m         \u001b[38;5;28mprint\u001b[39m(\u001b[38;5;124mf\u001b[39m\u001b[38;5;124m\"\u001b[39m\u001b[38;5;132;01m{\u001b[39;00mindex\u001b[38;5;132;01m}\u001b[39;00m\u001b[38;5;124m Brand: \u001b[39m\u001b[38;5;132;01m{\u001b[39;00mbrand\u001b[38;5;132;01m}\u001b[39;00m\u001b[38;5;124m, YouTube Link: \u001b[39m\u001b[38;5;132;01m{\u001b[39;00myoutube_link\u001b[38;5;132;01m}\u001b[39;00m\u001b[38;5;124m Going to Load: \u001b[39m\u001b[38;5;124m\"\u001b[39m)\n\u001b[1;32m---> 14\u001b[0m         \u001b[43mload_channel_data\u001b[49m\u001b[43m(\u001b[49m\u001b[43mbrand\u001b[49m\u001b[43m,\u001b[49m\u001b[43m \u001b[49m\u001b[43myoutube_link\u001b[49m\u001b[43m)\u001b[49m\n\u001b[0;32m     15\u001b[0m \u001b[38;5;28;01melse\u001b[39;00m:\n\u001b[0;32m     16\u001b[0m     \u001b[38;5;28mprint\u001b[39m(\u001b[38;5;124m\"\u001b[39m\u001b[38;5;124mThe required columns are not found in the CSV file.\u001b[39m\u001b[38;5;124m\"\u001b[39m)\n",
      "Cell \u001b[1;32mIn[11], line 4\u001b[0m, in \u001b[0;36mload_channel_data\u001b[1;34m(channel_name, channel_url)\u001b[0m\n\u001b[0;32m      3\u001b[0m \u001b[38;5;28;01mdef\u001b[39;00m \u001b[38;5;21mload_channel_data\u001b[39m(channel_name, channel_url):\n\u001b[1;32m----> 4\u001b[0m     videos_title \u001b[38;5;241m=\u001b[39m \u001b[43mget_video_title_from_channel_url\u001b[49m\u001b[43m(\u001b[49m\u001b[43mchannel_url\u001b[49m\u001b[43m)\u001b[49m\n\u001b[0;32m      5\u001b[0m     \u001b[38;5;66;03m# get_video_title_from_channel_url('https://www.youtube.com/@amazon')\u001b[39;00m\n\u001b[0;32m      7\u001b[0m     video_title_list \u001b[38;5;241m=\u001b[39m \u001b[38;5;28mlist\u001b[39m()\n",
      "Cell \u001b[1;32mIn[5], line 4\u001b[0m, in \u001b[0;36mget_video_title_from_channel_url\u001b[1;34m(channel_url)\u001b[0m\n\u001b[0;32m      1\u001b[0m \u001b[38;5;28;01mdef\u001b[39;00m \u001b[38;5;21mget_video_title_from_channel_url\u001b[39m(channel_url):    \n\u001b[0;32m      2\u001b[0m     \u001b[38;5;66;03m# Open YouTube channel\u001b[39;00m\n\u001b[0;32m      3\u001b[0m     \u001b[38;5;66;03m# channel_url = \"https://www.youtube.com/@Apple\"\u001b[39;00m\n\u001b[1;32m----> 4\u001b[0m     \u001b[43mdriver\u001b[49m\u001b[38;5;241;43m.\u001b[39;49m\u001b[43mget\u001b[49m\u001b[43m(\u001b[49m\u001b[43mchannel_url\u001b[49m\u001b[43m)\u001b[49m\n\u001b[0;32m      6\u001b[0m     \u001b[38;5;66;03m# Wait for the page to load\u001b[39;00m\n\u001b[0;32m      7\u001b[0m     time\u001b[38;5;241m.\u001b[39msleep(\u001b[38;5;241m5\u001b[39m)\n",
      "File \u001b[1;32m~\\AppData\\Local\\Programs\\Python\\Python312\\Lib\\site-packages\\selenium\\webdriver\\remote\\webdriver.py:436\u001b[0m, in \u001b[0;36mWebDriver.get\u001b[1;34m(self, url)\u001b[0m\n\u001b[0;32m    432\u001b[0m \u001b[38;5;28;01mdef\u001b[39;00m \u001b[38;5;21mget\u001b[39m(\u001b[38;5;28mself\u001b[39m, url: \u001b[38;5;28mstr\u001b[39m) \u001b[38;5;241m-\u001b[39m\u001b[38;5;241m>\u001b[39m \u001b[38;5;28;01mNone\u001b[39;00m:\n\u001b[0;32m    433\u001b[0m \u001b[38;5;250m    \u001b[39m\u001b[38;5;124;03m\"\"\"\u001b[39;00m\n\u001b[0;32m    434\u001b[0m \u001b[38;5;124;03m    Loads a web page in the current browser session.\u001b[39;00m\n\u001b[0;32m    435\u001b[0m \u001b[38;5;124;03m    \"\"\"\u001b[39;00m\n\u001b[1;32m--> 436\u001b[0m     \u001b[38;5;28;43mself\u001b[39;49m\u001b[38;5;241;43m.\u001b[39;49m\u001b[43mexecute\u001b[49m\u001b[43m(\u001b[49m\u001b[43mCommand\u001b[49m\u001b[38;5;241;43m.\u001b[39;49m\u001b[43mGET\u001b[49m\u001b[43m,\u001b[49m\u001b[43m \u001b[49m\u001b[43m{\u001b[49m\u001b[38;5;124;43m'\u001b[39;49m\u001b[38;5;124;43murl\u001b[39;49m\u001b[38;5;124;43m'\u001b[39;49m\u001b[43m:\u001b[49m\u001b[43m \u001b[49m\u001b[43murl\u001b[49m\u001b[43m}\u001b[49m\u001b[43m)\u001b[49m\n",
      "File \u001b[1;32m~\\AppData\\Local\\Programs\\Python\\Python312\\Lib\\site-packages\\selenium\\webdriver\\remote\\webdriver.py:422\u001b[0m, in \u001b[0;36mWebDriver.execute\u001b[1;34m(self, driver_command, params)\u001b[0m\n\u001b[0;32m    419\u001b[0m         params[\u001b[38;5;124m'\u001b[39m\u001b[38;5;124msessionId\u001b[39m\u001b[38;5;124m'\u001b[39m] \u001b[38;5;241m=\u001b[39m \u001b[38;5;28mself\u001b[39m\u001b[38;5;241m.\u001b[39msession_id\n\u001b[0;32m    421\u001b[0m params \u001b[38;5;241m=\u001b[39m \u001b[38;5;28mself\u001b[39m\u001b[38;5;241m.\u001b[39m_wrap_value(params)\n\u001b[1;32m--> 422\u001b[0m response \u001b[38;5;241m=\u001b[39m \u001b[38;5;28;43mself\u001b[39;49m\u001b[38;5;241;43m.\u001b[39;49m\u001b[43mcommand_executor\u001b[49m\u001b[38;5;241;43m.\u001b[39;49m\u001b[43mexecute\u001b[49m\u001b[43m(\u001b[49m\u001b[43mdriver_command\u001b[49m\u001b[43m,\u001b[49m\u001b[43m \u001b[49m\u001b[43mparams\u001b[49m\u001b[43m)\u001b[49m\n\u001b[0;32m    423\u001b[0m \u001b[38;5;28;01mif\u001b[39;00m response:\n\u001b[0;32m    424\u001b[0m     \u001b[38;5;28mself\u001b[39m\u001b[38;5;241m.\u001b[39merror_handler\u001b[38;5;241m.\u001b[39mcheck_response(response)\n",
      "File \u001b[1;32m~\\AppData\\Local\\Programs\\Python\\Python312\\Lib\\site-packages\\selenium\\webdriver\\remote\\remote_connection.py:421\u001b[0m, in \u001b[0;36mRemoteConnection.execute\u001b[1;34m(self, command, params)\u001b[0m\n\u001b[0;32m    419\u001b[0m data \u001b[38;5;241m=\u001b[39m utils\u001b[38;5;241m.\u001b[39mdump_json(params)\n\u001b[0;32m    420\u001b[0m url \u001b[38;5;241m=\u001b[39m \u001b[38;5;124mf\u001b[39m\u001b[38;5;124m\"\u001b[39m\u001b[38;5;132;01m{\u001b[39;00m\u001b[38;5;28mself\u001b[39m\u001b[38;5;241m.\u001b[39m_url\u001b[38;5;132;01m}\u001b[39;00m\u001b[38;5;132;01m{\u001b[39;00mpath\u001b[38;5;132;01m}\u001b[39;00m\u001b[38;5;124m\"\u001b[39m\n\u001b[1;32m--> 421\u001b[0m \u001b[38;5;28;01mreturn\u001b[39;00m \u001b[38;5;28;43mself\u001b[39;49m\u001b[38;5;241;43m.\u001b[39;49m\u001b[43m_request\u001b[49m\u001b[43m(\u001b[49m\u001b[43mcommand_info\u001b[49m\u001b[43m[\u001b[49m\u001b[38;5;241;43m0\u001b[39;49m\u001b[43m]\u001b[49m\u001b[43m,\u001b[49m\u001b[43m \u001b[49m\u001b[43murl\u001b[49m\u001b[43m,\u001b[49m\u001b[43m \u001b[49m\u001b[43mbody\u001b[49m\u001b[38;5;241;43m=\u001b[39;49m\u001b[43mdata\u001b[49m\u001b[43m)\u001b[49m\n",
      "File \u001b[1;32m~\\AppData\\Local\\Programs\\Python\\Python312\\Lib\\site-packages\\selenium\\webdriver\\remote\\remote_connection.py:443\u001b[0m, in \u001b[0;36mRemoteConnection._request\u001b[1;34m(self, method, url, body)\u001b[0m\n\u001b[0;32m    440\u001b[0m     body \u001b[38;5;241m=\u001b[39m \u001b[38;5;28;01mNone\u001b[39;00m\n\u001b[0;32m    442\u001b[0m \u001b[38;5;28;01mif\u001b[39;00m \u001b[38;5;28mself\u001b[39m\u001b[38;5;241m.\u001b[39mkeep_alive:\n\u001b[1;32m--> 443\u001b[0m     resp \u001b[38;5;241m=\u001b[39m \u001b[38;5;28;43mself\u001b[39;49m\u001b[38;5;241;43m.\u001b[39;49m\u001b[43m_conn\u001b[49m\u001b[38;5;241;43m.\u001b[39;49m\u001b[43mrequest\u001b[49m\u001b[43m(\u001b[49m\u001b[43mmethod\u001b[49m\u001b[43m,\u001b[49m\u001b[43m \u001b[49m\u001b[43murl\u001b[49m\u001b[43m,\u001b[49m\u001b[43m \u001b[49m\u001b[43mbody\u001b[49m\u001b[38;5;241;43m=\u001b[39;49m\u001b[43mbody\u001b[49m\u001b[43m,\u001b[49m\u001b[43m \u001b[49m\u001b[43mheaders\u001b[49m\u001b[38;5;241;43m=\u001b[39;49m\u001b[43mheaders\u001b[49m\u001b[43m)\u001b[49m\n\u001b[0;32m    444\u001b[0m     statuscode \u001b[38;5;241m=\u001b[39m resp\u001b[38;5;241m.\u001b[39mstatus\n\u001b[0;32m    445\u001b[0m \u001b[38;5;28;01melse\u001b[39;00m:\n",
      "File \u001b[1;32m~\\AppData\\Local\\Programs\\Python\\Python312\\Lib\\site-packages\\urllib3\\request.py:81\u001b[0m, in \u001b[0;36mRequestMethods.request\u001b[1;34m(self, method, url, fields, headers, **urlopen_kw)\u001b[0m\n\u001b[0;32m     77\u001b[0m     \u001b[38;5;28;01mreturn\u001b[39;00m \u001b[38;5;28mself\u001b[39m\u001b[38;5;241m.\u001b[39mrequest_encode_url(\n\u001b[0;32m     78\u001b[0m         method, url, fields\u001b[38;5;241m=\u001b[39mfields, headers\u001b[38;5;241m=\u001b[39mheaders, \u001b[38;5;241m*\u001b[39m\u001b[38;5;241m*\u001b[39murlopen_kw\n\u001b[0;32m     79\u001b[0m     )\n\u001b[0;32m     80\u001b[0m \u001b[38;5;28;01melse\u001b[39;00m:\n\u001b[1;32m---> 81\u001b[0m     \u001b[38;5;28;01mreturn\u001b[39;00m \u001b[38;5;28;43mself\u001b[39;49m\u001b[38;5;241;43m.\u001b[39;49m\u001b[43mrequest_encode_body\u001b[49m\u001b[43m(\u001b[49m\n\u001b[0;32m     82\u001b[0m \u001b[43m        \u001b[49m\u001b[43mmethod\u001b[49m\u001b[43m,\u001b[49m\u001b[43m \u001b[49m\u001b[43murl\u001b[49m\u001b[43m,\u001b[49m\u001b[43m \u001b[49m\u001b[43mfields\u001b[49m\u001b[38;5;241;43m=\u001b[39;49m\u001b[43mfields\u001b[49m\u001b[43m,\u001b[49m\u001b[43m \u001b[49m\u001b[43mheaders\u001b[49m\u001b[38;5;241;43m=\u001b[39;49m\u001b[43mheaders\u001b[49m\u001b[43m,\u001b[49m\u001b[43m \u001b[49m\u001b[38;5;241;43m*\u001b[39;49m\u001b[38;5;241;43m*\u001b[39;49m\u001b[43murlopen_kw\u001b[49m\n\u001b[0;32m     83\u001b[0m \u001b[43m    \u001b[49m\u001b[43m)\u001b[49m\n",
      "File \u001b[1;32m~\\AppData\\Local\\Programs\\Python\\Python312\\Lib\\site-packages\\urllib3\\request.py:173\u001b[0m, in \u001b[0;36mRequestMethods.request_encode_body\u001b[1;34m(self, method, url, fields, headers, encode_multipart, multipart_boundary, **urlopen_kw)\u001b[0m\n\u001b[0;32m    170\u001b[0m extra_kw[\u001b[38;5;124m\"\u001b[39m\u001b[38;5;124mheaders\u001b[39m\u001b[38;5;124m\"\u001b[39m]\u001b[38;5;241m.\u001b[39mupdate(headers)\n\u001b[0;32m    171\u001b[0m extra_kw\u001b[38;5;241m.\u001b[39mupdate(urlopen_kw)\n\u001b[1;32m--> 173\u001b[0m \u001b[38;5;28;01mreturn\u001b[39;00m \u001b[38;5;28;43mself\u001b[39;49m\u001b[38;5;241;43m.\u001b[39;49m\u001b[43murlopen\u001b[49m\u001b[43m(\u001b[49m\u001b[43mmethod\u001b[49m\u001b[43m,\u001b[49m\u001b[43m \u001b[49m\u001b[43murl\u001b[49m\u001b[43m,\u001b[49m\u001b[43m \u001b[49m\u001b[38;5;241;43m*\u001b[39;49m\u001b[38;5;241;43m*\u001b[39;49m\u001b[43mextra_kw\u001b[49m\u001b[43m)\u001b[49m\n",
      "File \u001b[1;32m~\\AppData\\Local\\Programs\\Python\\Python312\\Lib\\site-packages\\urllib3\\poolmanager.py:376\u001b[0m, in \u001b[0;36mPoolManager.urlopen\u001b[1;34m(self, method, url, redirect, **kw)\u001b[0m\n\u001b[0;32m    374\u001b[0m     response \u001b[38;5;241m=\u001b[39m conn\u001b[38;5;241m.\u001b[39murlopen(method, url, \u001b[38;5;241m*\u001b[39m\u001b[38;5;241m*\u001b[39mkw)\n\u001b[0;32m    375\u001b[0m \u001b[38;5;28;01melse\u001b[39;00m:\n\u001b[1;32m--> 376\u001b[0m     response \u001b[38;5;241m=\u001b[39m \u001b[43mconn\u001b[49m\u001b[38;5;241;43m.\u001b[39;49m\u001b[43murlopen\u001b[49m\u001b[43m(\u001b[49m\u001b[43mmethod\u001b[49m\u001b[43m,\u001b[49m\u001b[43m \u001b[49m\u001b[43mu\u001b[49m\u001b[38;5;241;43m.\u001b[39;49m\u001b[43mrequest_uri\u001b[49m\u001b[43m,\u001b[49m\u001b[43m \u001b[49m\u001b[38;5;241;43m*\u001b[39;49m\u001b[38;5;241;43m*\u001b[39;49m\u001b[43mkw\u001b[49m\u001b[43m)\u001b[49m\n\u001b[0;32m    378\u001b[0m redirect_location \u001b[38;5;241m=\u001b[39m redirect \u001b[38;5;129;01mand\u001b[39;00m response\u001b[38;5;241m.\u001b[39mget_redirect_location()\n\u001b[0;32m    379\u001b[0m \u001b[38;5;28;01mif\u001b[39;00m \u001b[38;5;129;01mnot\u001b[39;00m redirect_location:\n",
      "File \u001b[1;32m~\\AppData\\Local\\Programs\\Python\\Python312\\Lib\\site-packages\\urllib3\\connectionpool.py:715\u001b[0m, in \u001b[0;36mHTTPConnectionPool.urlopen\u001b[1;34m(self, method, url, body, headers, retries, redirect, assert_same_host, timeout, pool_timeout, release_conn, chunked, body_pos, **response_kw)\u001b[0m\n\u001b[0;32m    712\u001b[0m     \u001b[38;5;28mself\u001b[39m\u001b[38;5;241m.\u001b[39m_prepare_proxy(conn)\n\u001b[0;32m    714\u001b[0m \u001b[38;5;66;03m# Make the request on the httplib connection object.\u001b[39;00m\n\u001b[1;32m--> 715\u001b[0m httplib_response \u001b[38;5;241m=\u001b[39m \u001b[38;5;28;43mself\u001b[39;49m\u001b[38;5;241;43m.\u001b[39;49m\u001b[43m_make_request\u001b[49m\u001b[43m(\u001b[49m\n\u001b[0;32m    716\u001b[0m \u001b[43m    \u001b[49m\u001b[43mconn\u001b[49m\u001b[43m,\u001b[49m\n\u001b[0;32m    717\u001b[0m \u001b[43m    \u001b[49m\u001b[43mmethod\u001b[49m\u001b[43m,\u001b[49m\n\u001b[0;32m    718\u001b[0m \u001b[43m    \u001b[49m\u001b[43murl\u001b[49m\u001b[43m,\u001b[49m\n\u001b[0;32m    719\u001b[0m \u001b[43m    \u001b[49m\u001b[43mtimeout\u001b[49m\u001b[38;5;241;43m=\u001b[39;49m\u001b[43mtimeout_obj\u001b[49m\u001b[43m,\u001b[49m\n\u001b[0;32m    720\u001b[0m \u001b[43m    \u001b[49m\u001b[43mbody\u001b[49m\u001b[38;5;241;43m=\u001b[39;49m\u001b[43mbody\u001b[49m\u001b[43m,\u001b[49m\n\u001b[0;32m    721\u001b[0m \u001b[43m    \u001b[49m\u001b[43mheaders\u001b[49m\u001b[38;5;241;43m=\u001b[39;49m\u001b[43mheaders\u001b[49m\u001b[43m,\u001b[49m\n\u001b[0;32m    722\u001b[0m \u001b[43m    \u001b[49m\u001b[43mchunked\u001b[49m\u001b[38;5;241;43m=\u001b[39;49m\u001b[43mchunked\u001b[49m\u001b[43m,\u001b[49m\n\u001b[0;32m    723\u001b[0m \u001b[43m\u001b[49m\u001b[43m)\u001b[49m\n\u001b[0;32m    725\u001b[0m \u001b[38;5;66;03m# If we're going to release the connection in ``finally:``, then\u001b[39;00m\n\u001b[0;32m    726\u001b[0m \u001b[38;5;66;03m# the response doesn't need to know about the connection. Otherwise\u001b[39;00m\n\u001b[0;32m    727\u001b[0m \u001b[38;5;66;03m# it will also try to release it and we'll have a double-release\u001b[39;00m\n\u001b[0;32m    728\u001b[0m \u001b[38;5;66;03m# mess.\u001b[39;00m\n\u001b[0;32m    729\u001b[0m response_conn \u001b[38;5;241m=\u001b[39m conn \u001b[38;5;28;01mif\u001b[39;00m \u001b[38;5;129;01mnot\u001b[39;00m release_conn \u001b[38;5;28;01melse\u001b[39;00m \u001b[38;5;28;01mNone\u001b[39;00m\n",
      "File \u001b[1;32m~\\AppData\\Local\\Programs\\Python\\Python312\\Lib\\site-packages\\urllib3\\connectionpool.py:467\u001b[0m, in \u001b[0;36mHTTPConnectionPool._make_request\u001b[1;34m(self, conn, method, url, timeout, chunked, **httplib_request_kw)\u001b[0m\n\u001b[0;32m    462\u001b[0m             httplib_response \u001b[38;5;241m=\u001b[39m conn\u001b[38;5;241m.\u001b[39mgetresponse()\n\u001b[0;32m    463\u001b[0m         \u001b[38;5;28;01mexcept\u001b[39;00m \u001b[38;5;167;01mBaseException\u001b[39;00m \u001b[38;5;28;01mas\u001b[39;00m e:\n\u001b[0;32m    464\u001b[0m             \u001b[38;5;66;03m# Remove the TypeError from the exception chain in\u001b[39;00m\n\u001b[0;32m    465\u001b[0m             \u001b[38;5;66;03m# Python 3 (including for exceptions like SystemExit).\u001b[39;00m\n\u001b[0;32m    466\u001b[0m             \u001b[38;5;66;03m# Otherwise it looks like a bug in the code.\u001b[39;00m\n\u001b[1;32m--> 467\u001b[0m             \u001b[43msix\u001b[49m\u001b[38;5;241;43m.\u001b[39;49m\u001b[43mraise_from\u001b[49m\u001b[43m(\u001b[49m\u001b[43me\u001b[49m\u001b[43m,\u001b[49m\u001b[43m \u001b[49m\u001b[38;5;28;43;01mNone\u001b[39;49;00m\u001b[43m)\u001b[49m\n\u001b[0;32m    468\u001b[0m \u001b[38;5;28;01mexcept\u001b[39;00m (SocketTimeout, BaseSSLError, SocketError) \u001b[38;5;28;01mas\u001b[39;00m e:\n\u001b[0;32m    469\u001b[0m     \u001b[38;5;28mself\u001b[39m\u001b[38;5;241m.\u001b[39m_raise_timeout(err\u001b[38;5;241m=\u001b[39me, url\u001b[38;5;241m=\u001b[39murl, timeout_value\u001b[38;5;241m=\u001b[39mread_timeout)\n",
      "File \u001b[1;32m<string>:3\u001b[0m, in \u001b[0;36mraise_from\u001b[1;34m(value, from_value)\u001b[0m\n",
      "File \u001b[1;32m~\\AppData\\Local\\Programs\\Python\\Python312\\Lib\\site-packages\\urllib3\\connectionpool.py:462\u001b[0m, in \u001b[0;36mHTTPConnectionPool._make_request\u001b[1;34m(self, conn, method, url, timeout, chunked, **httplib_request_kw)\u001b[0m\n\u001b[0;32m    459\u001b[0m \u001b[38;5;28;01mexcept\u001b[39;00m \u001b[38;5;167;01mTypeError\u001b[39;00m:\n\u001b[0;32m    460\u001b[0m     \u001b[38;5;66;03m# Python 3\u001b[39;00m\n\u001b[0;32m    461\u001b[0m     \u001b[38;5;28;01mtry\u001b[39;00m:\n\u001b[1;32m--> 462\u001b[0m         httplib_response \u001b[38;5;241m=\u001b[39m \u001b[43mconn\u001b[49m\u001b[38;5;241;43m.\u001b[39;49m\u001b[43mgetresponse\u001b[49m\u001b[43m(\u001b[49m\u001b[43m)\u001b[49m\n\u001b[0;32m    463\u001b[0m     \u001b[38;5;28;01mexcept\u001b[39;00m \u001b[38;5;167;01mBaseException\u001b[39;00m \u001b[38;5;28;01mas\u001b[39;00m e:\n\u001b[0;32m    464\u001b[0m         \u001b[38;5;66;03m# Remove the TypeError from the exception chain in\u001b[39;00m\n\u001b[0;32m    465\u001b[0m         \u001b[38;5;66;03m# Python 3 (including for exceptions like SystemExit).\u001b[39;00m\n\u001b[0;32m    466\u001b[0m         \u001b[38;5;66;03m# Otherwise it looks like a bug in the code.\u001b[39;00m\n\u001b[0;32m    467\u001b[0m         six\u001b[38;5;241m.\u001b[39mraise_from(e, \u001b[38;5;28;01mNone\u001b[39;00m)\n",
      "File \u001b[1;32m~\\AppData\\Local\\Programs\\Python\\Python312\\Lib\\http\\client.py:1428\u001b[0m, in \u001b[0;36mHTTPConnection.getresponse\u001b[1;34m(self)\u001b[0m\n\u001b[0;32m   1426\u001b[0m \u001b[38;5;28;01mtry\u001b[39;00m:\n\u001b[0;32m   1427\u001b[0m     \u001b[38;5;28;01mtry\u001b[39;00m:\n\u001b[1;32m-> 1428\u001b[0m         \u001b[43mresponse\u001b[49m\u001b[38;5;241;43m.\u001b[39;49m\u001b[43mbegin\u001b[49m\u001b[43m(\u001b[49m\u001b[43m)\u001b[49m\n\u001b[0;32m   1429\u001b[0m     \u001b[38;5;28;01mexcept\u001b[39;00m \u001b[38;5;167;01mConnectionError\u001b[39;00m:\n\u001b[0;32m   1430\u001b[0m         \u001b[38;5;28mself\u001b[39m\u001b[38;5;241m.\u001b[39mclose()\n",
      "File \u001b[1;32m~\\AppData\\Local\\Programs\\Python\\Python312\\Lib\\http\\client.py:331\u001b[0m, in \u001b[0;36mHTTPResponse.begin\u001b[1;34m(self)\u001b[0m\n\u001b[0;32m    329\u001b[0m \u001b[38;5;66;03m# read until we get a non-100 response\u001b[39;00m\n\u001b[0;32m    330\u001b[0m \u001b[38;5;28;01mwhile\u001b[39;00m \u001b[38;5;28;01mTrue\u001b[39;00m:\n\u001b[1;32m--> 331\u001b[0m     version, status, reason \u001b[38;5;241m=\u001b[39m \u001b[38;5;28;43mself\u001b[39;49m\u001b[38;5;241;43m.\u001b[39;49m\u001b[43m_read_status\u001b[49m\u001b[43m(\u001b[49m\u001b[43m)\u001b[49m\n\u001b[0;32m    332\u001b[0m     \u001b[38;5;28;01mif\u001b[39;00m status \u001b[38;5;241m!=\u001b[39m CONTINUE:\n\u001b[0;32m    333\u001b[0m         \u001b[38;5;28;01mbreak\u001b[39;00m\n",
      "File \u001b[1;32m~\\AppData\\Local\\Programs\\Python\\Python312\\Lib\\http\\client.py:292\u001b[0m, in \u001b[0;36mHTTPResponse._read_status\u001b[1;34m(self)\u001b[0m\n\u001b[0;32m    291\u001b[0m \u001b[38;5;28;01mdef\u001b[39;00m \u001b[38;5;21m_read_status\u001b[39m(\u001b[38;5;28mself\u001b[39m):\n\u001b[1;32m--> 292\u001b[0m     line \u001b[38;5;241m=\u001b[39m \u001b[38;5;28mstr\u001b[39m(\u001b[38;5;28;43mself\u001b[39;49m\u001b[38;5;241;43m.\u001b[39;49m\u001b[43mfp\u001b[49m\u001b[38;5;241;43m.\u001b[39;49m\u001b[43mreadline\u001b[49m\u001b[43m(\u001b[49m\u001b[43m_MAXLINE\u001b[49m\u001b[43m \u001b[49m\u001b[38;5;241;43m+\u001b[39;49m\u001b[43m \u001b[49m\u001b[38;5;241;43m1\u001b[39;49m\u001b[43m)\u001b[49m, \u001b[38;5;124m\"\u001b[39m\u001b[38;5;124miso-8859-1\u001b[39m\u001b[38;5;124m\"\u001b[39m)\n\u001b[0;32m    293\u001b[0m     \u001b[38;5;28;01mif\u001b[39;00m \u001b[38;5;28mlen\u001b[39m(line) \u001b[38;5;241m>\u001b[39m _MAXLINE:\n\u001b[0;32m    294\u001b[0m         \u001b[38;5;28;01mraise\u001b[39;00m LineTooLong(\u001b[38;5;124m\"\u001b[39m\u001b[38;5;124mstatus line\u001b[39m\u001b[38;5;124m\"\u001b[39m)\n",
      "File \u001b[1;32m~\\AppData\\Local\\Programs\\Python\\Python312\\Lib\\socket.py:708\u001b[0m, in \u001b[0;36mSocketIO.readinto\u001b[1;34m(self, b)\u001b[0m\n\u001b[0;32m    706\u001b[0m \u001b[38;5;28;01mwhile\u001b[39;00m \u001b[38;5;28;01mTrue\u001b[39;00m:\n\u001b[0;32m    707\u001b[0m     \u001b[38;5;28;01mtry\u001b[39;00m:\n\u001b[1;32m--> 708\u001b[0m         \u001b[38;5;28;01mreturn\u001b[39;00m \u001b[38;5;28;43mself\u001b[39;49m\u001b[38;5;241;43m.\u001b[39;49m\u001b[43m_sock\u001b[49m\u001b[38;5;241;43m.\u001b[39;49m\u001b[43mrecv_into\u001b[49m\u001b[43m(\u001b[49m\u001b[43mb\u001b[49m\u001b[43m)\u001b[49m\n\u001b[0;32m    709\u001b[0m     \u001b[38;5;28;01mexcept\u001b[39;00m timeout:\n\u001b[0;32m    710\u001b[0m         \u001b[38;5;28mself\u001b[39m\u001b[38;5;241m.\u001b[39m_timeout_occurred \u001b[38;5;241m=\u001b[39m \u001b[38;5;28;01mTrue\u001b[39;00m\n",
      "\u001b[1;31mKeyboardInterrupt\u001b[0m: "
     ]
    }
   ],
   "source": [
    "# Load the Excel file\n",
    "file_path = 'data/data.csv'\n",
    "\n",
    "try:\n",
    "    # Attempt to read the file\n",
    "    channels = pd.read_csv(file_path, encoding='ISO-8859-1')  # Adjust encoding if necessary\n",
    "\n",
    "    # Assuming the columns are named 'Brand' and 'YouTube Link'\n",
    "    if 'BRANDS' in channels.columns and 'YouTube' in channels.columns:\n",
    "        for index, row in channels.iterrows():\n",
    "            brand = row['BRANDS']\n",
    "            youtube_link = row['YouTube']\n",
    "            print(f\"{index} Brand: {brand}, YouTube Link: {youtube_link} Going to Load: \")\n",
    "            load_channel_data(brand, youtube_link)\n",
    "    else:\n",
    "        print(\"The required columns are not found in the CSV file.\")\n",
    "except Exception as e:\n",
    "    print(f\"An error occurred: {e}\")\n",
    "driver.quit()"
   ]
  },
  {
   "cell_type": "code",
   "execution_count": null,
   "id": "524bfb6d-ad5f-46c5-818d-ea2e76b1a14d",
   "metadata": {},
   "outputs": [],
   "source": []
  },
  {
   "cell_type": "code",
   "execution_count": null,
   "id": "ec8f0751-34c4-4be2-a1ed-e9cf25798a48",
   "metadata": {},
   "outputs": [],
   "source": [
    "# df = pd.DataFrame([[2,1],[4,5]], columns=['Video Title', 'Video URL'])\n",
    "# filename = f\"2024-08-11 18-40-26/Apple_data.csv\"\n",
    "# df.to_csv(filename, index=False)"
   ]
  },
  {
   "cell_type": "code",
   "execution_count": null,
   "id": "fece63fb-0071-433d-9842-5871e529e9af",
   "metadata": {},
   "outputs": [],
   "source": []
  }
 ],
 "metadata": {
  "kernelspec": {
   "display_name": "Python 3 (ipykernel)",
   "language": "python",
   "name": "python3"
  },
  "language_info": {
   "codemirror_mode": {
    "name": "ipython",
    "version": 3
   },
   "file_extension": ".py",
   "mimetype": "text/x-python",
   "name": "python",
   "nbconvert_exporter": "python",
   "pygments_lexer": "ipython3",
   "version": "3.12.4"
  }
 },
 "nbformat": 4,
 "nbformat_minor": 5
}
